{
 "cells": [
  {
   "cell_type": "markdown",
   "metadata": {},
   "source": [
    "# GEOG5990 Independent Project\n",
    "\n",
    "## The Black Death\n",
    "\n",
    "#### *Georgia Scott*"
   ]
  },
  {
   "cell_type": "markdown",
   "metadata": {},
   "source": [
    "# ____\n",
    "### In this project, I am an epidemiologist looking back at the Black Death outbreak in 1665. My aim is to calculate the total dealths from the disease using historical figures of rate population (as recorded by local rat-catchers) and the population density (derived from the parish records). This historical data is stored as two text data files, which are visualised by two 400x00 raster maps in this notebook, displaying the area covered by the parish populations, and by the rat catchers.\n",
    "### The average death rate is calculated from the equation d = (0.8 x r) x (1.3 x p), where:\n",
    "#### *d - average weekly deaths*\n",
    "#### *r  - average rats caught per week*\n",
    "#### *p - average population density*\n",
    "### This project displays the average rat catch map and the average parish population maps separately, and then uses the above equation to combine the two maps to produce the map of average death rate per week. \n",
    "### This project also enables the user to manipulate the equation parameters using scale bars in order to change the average weekly death rate to mimic different scenarios that could have ensued during the Black Death outbreak in London.\n",
    "## *"
   ]
  },
  {
   "cell_type": "markdown",
   "metadata": {},
   "source": [
    "# Running the notebook:\n",
    "\n",
    "### 1. Ensure the relevant files: TheBlackDeath.ipynb, and deathmap.txt have been downloaded and saved on the Jupyter Home page.\n",
    "\n",
    "### 2. For each step starting from Step 1: enter each Kernel with *# Run* at the start, and click on the 'Run' buttom at the top of the page, or SHIFT + ENTER. *This runs the instructions in each kernel.*\n",
    "\n",
    "### 3. In Step 4, the *deathmap.txt* textfile is created, which you can find from the notebook Home page if you wish!\n",
    "\n",
    "### 4. In Step 5, alter the Rats and Parishes paramater bars as you wish to change the equation!\n",
    "\n",
    "### 5. From this, Run the kernel below in Step 6 to see how your chosen parameters alter the death rate outcome!\n",
    "# _____"
   ]
  },
  {
   "cell_type": "markdown",
   "metadata": {},
   "source": [
    "### **Step 1: Imports**"
   ]
  },
  {
   "cell_type": "code",
   "execution_count": 1,
   "metadata": {},
   "outputs": [],
   "source": [
    "# Run\n",
    "'''Step 1: Imports.''' \n",
    "\n",
    "%matplotlib inline\n",
    "import random\n",
    "import matplotlib\n",
    "import matplotlib.pyplot\n",
    "import csv\n",
    "import numpy as np\n",
    "import matplotlib.pyplot as plt\n",
    "import os\n",
    "# Below imports for the sliding scale bars\n",
    "from ipywidgets import widgets\n",
    "import ipywidgets as widgets\n",
    "from matplotlib.widgets import Slider\n",
    "from pylab import *\n"
   ]
  },
  {
   "cell_type": "markdown",
   "metadata": {},
   "source": [
    "### Step 2: Load the parish death rate map"
   ]
  },
  {
   "cell_type": "code",
   "execution_count": 2,
   "metadata": {},
   "outputs": [
    {
     "data": {
      "text/plain": [
       "Text(0.5,1,'Parish death rate map')"
      ]
     },
     "execution_count": 2,
     "metadata": {},
     "output_type": "execute_result"
    },
    {
     "data": {
      "image/png": "[encoded data removed]",
      "text/plain": [
       "<Figure size 432x288 with 1 Axes>"
      ]
     },
     "metadata": {
      "needs_background": "light"
     },
     "output_type": "display_data"
    }
   ],
   "source": [
    "# Run\n",
    "'''Step 2: Load the parish death rate map.'''\n",
    "\n",
    "environment1 = [] # The parish death rate map is denoted as environment1\n",
    "\n",
    "f = open(\"death_parishes.txt\", newline = '')\n",
    "reader = csv.reader(f,quoting=csv.QUOTE_NONNUMERIC)\n",
    "for row in reader: # List of rows\n",
    "    rowlist = []\n",
    "    for value in row: # List of values\n",
    "        rowlist.append(value)\n",
    "    environment1.append(rowlist) # List of values for the row added to total environment\n",
    "                                 # in the loop, for row in reader, not in loop for value in row.\n",
    "f.close()\n",
    "\n",
    "matplotlib.pyplot.xlim(0, 400)\n",
    "matplotlib.pyplot.ylim(0, 400)\n",
    "matplotlib.pyplot.imshow(environment1)\n",
    "matplotlib.pyplot.title('Parish death rate map')\n",
    "\n",
    "#######################################"
   ]
  },
  {
   "cell_type": "markdown",
   "metadata": {},
   "source": [
    "##### This map displays the average population densities of the 16 parishes in London, 1665."
   ]
  },
  {
   "cell_type": "markdown",
   "metadata": {},
   "source": [
    "### Step 3: Load the average rat catch map."
   ]
  },
  {
   "cell_type": "code",
   "execution_count": 3,
   "metadata": {},
   "outputs": [
    {
     "data": {
      "text/plain": [
       "Text(0.5,1,'Average rat catch map')"
      ]
     },
     "execution_count": 3,
     "metadata": {},
     "output_type": "execute_result"
    },
    {
     "data": {
      "image/png": "[encoded data removed]",
      "text/plain": [
       "<Figure size 432x288 with 1 Axes>"
      ]
     },
     "metadata": {
      "needs_background": "light"
     },
     "output_type": "display_data"
    }
   ],
   "source": [
    "# Run\n",
    "'''Step 3: Load the average rat catch map.'''\n",
    "\n",
    "environment2 = [] # The average rat catch map is denoted as environment2\n",
    "\n",
    "f = open(\"death_rats.txt\", newline = '')\n",
    "reader = csv.reader(f,quoting=csv.QUOTE_NONNUMERIC)\n",
    "for row in reader: # List of rows\n",
    "    rowlist = []\n",
    "    for value in row: # List of values\n",
    "        rowlist.append(value)\n",
    "    environment2.append(rowlist) # List of values for the row added to total environment\n",
    "                                 # in the loop, for row in reader, not in loop for value in row.\n",
    "f.close()\n",
    "\n",
    "matplotlib.pyplot.xlim(0, 400)\n",
    "matplotlib.pyplot.ylim(0, 400)\n",
    "matplotlib.pyplot.imshow(environment2)\n",
    "matplotlib.pyplot.title('Average rat catch map')\n",
    "\n",
    "#######################################"
   ]
  },
  {
   "cell_type": "markdown",
   "metadata": {},
   "source": [
    "##### This map displays the average number of rats caught per week per 100m x 100m square for each rat catcher's area of work."
   ]
  },
  {
   "cell_type": "markdown",
   "metadata": {},
   "source": [
    "### Step 4: Combine the parish death rate map and average rat catch map"
   ]
  },
  {
   "cell_type": "code",
   "execution_count": 4,
   "metadata": {},
   "outputs": [
    {
     "name": "stdout",
     "output_type": "stream",
     "text": [
      "Random value generated: 15912.0\n",
      "Average weekly death rate = 10670.4\n"
     ]
    },
    {
     "data": {
      "image/png": "[encoded data removed]",
      "text/plain": [
       "<Figure size 432x288 with 1 Axes>"
      ]
     },
     "metadata": {
      "needs_background": "light"
     },
     "output_type": "display_data"
    }
   ],
   "source": [
    "# Run\n",
    "'''Step 4: Combine the parish death rate map and average rat catch map.'''\n",
    "\n",
    "# Parish death rate map = environment1\n",
    "# Average rat catch map = environment2\n",
    "\n",
    "\n",
    "# Combine the 2 datasets to create a map of average death rate.\n",
    "result = []\n",
    "\n",
    "for r in range(len(environment1)):\n",
    "    row_a = environment1[r]\n",
    "    row_b = environment2[r]\n",
    "    rowlist = []\n",
    "    result.append(rowlist)\n",
    "    for c in range(len(row_a)):\n",
    "        r = row_a[c] # rats  \n",
    "        p = row_b[c] # parishes\n",
    "        # deaths = (0.8 x rats) x (1.3 x parishes) Equation used to calculate the average death rate.\n",
    "        d = (0.8 * r) * (1.3 * p)\n",
    "        rowlist.append(d)\n",
    "        #print(d) # Test the result.\n",
    "        \n",
    "print('Random value generated:', result[250][0])\n",
    "# The above tests a random value as generated by the equation for average death rate.\n",
    "\n",
    "# Shows the new map of averarge death rate, calculated from the 2 combined datasets.\n",
    "matplotlib.pyplot.xlim(0, 400)\n",
    "matplotlib.pyplot.ylim(0, 400)\n",
    "matplotlib.pyplot.imshow(result)\n",
    "matplotlib.pyplot.title('Map of average death rate')\n",
    "\n",
    "# Shows the average weekly death rate\n",
    "print('Average weekly death rate =', round(d,2))\n",
    "\n",
    "\n",
    "'''Step 4.1: Save the average death rate result as a separate textfile.'''\n",
    "\n",
    "np.savetxt('deathmap.txt', result, fmt='%-6f' , newline=\"\\r\\n\")\n",
    "# Makes each line in the textfile equal a new line on the map.\n",
    "\n",
    "#######################################"
   ]
  },
  {
   "cell_type": "markdown",
   "metadata": {},
   "source": [
    "##### This map displays the average death rate within the parishes investigated, within a 400x400 environment. This was calculated by combining the average parish population density, and the average weekly rat catch for each rat catcher's area of work. These data were combined with the equation: deaths = (0.8 x rats) x (1.3 x parishes). The result of the average death rate calculation can be found as a textfile, titled 'deathmap.txt' which can be accessed from the Jupyter notebook home page."
   ]
  },
  {
   "cell_type": "markdown",
   "metadata": {},
   "source": [
    "### Step 5: Display the death rate map with changing, interactive parameters."
   ]
  },
  {
   "cell_type": "code",
   "execution_count": 5,
   "metadata": {},
   "outputs": [
    {
     "data": {
      "application/vnd.jupyter.widget-view+json": {
       "model_id": "58884dc3bd294fc79e7b64d8b572a4f9",
       "version_major": 2,
       "version_minor": 0
      },
      "text/plain": [
       "FloatSlider(value=0.8, description='Rats:', max=2.0, readout_format='.1f')"
      ]
     },
     "metadata": {},
     "output_type": "display_data"
    },
    {
     "data": {
      "application/vnd.jupyter.widget-view+json": {
       "model_id": "b657ef62492f4ebb902d2b247006fe07",
       "version_major": 2,
       "version_minor": 0
      },
      "text/plain": [
       "FloatSlider(value=1.3, description='Parishes:', max=2.0, readout_format='.1f')"
      ]
     },
     "metadata": {},
     "output_type": "display_data"
    }
   ],
   "source": [
    "# Run\n",
    "'''Step 5: Display the death rate map with interactive parameters.'''\n",
    "\n",
    "'''The initial equation for calculating death rate:\n",
    "deaths = (0.8 x rats) x (1.3 x parishes)'''\n",
    "\n",
    "'''Step 5.1.1: Create the slider for the average rat population.'''\n",
    "wR = widgets.FloatSlider(\n",
    "    value=0.8,\n",
    "    min=0,\n",
    "    max=2.0,\n",
    "    step=0.1,\n",
    "    description='Rats:',\n",
    "    readout_format='.1f',\n",
    ")\n",
    "display(wR) # This displays the slider for the Rats value.\n",
    "\n",
    "\n",
    "'''Step 5.1.2: Create the slider for the parish population.'''\n",
    "wP = widgets.FloatSlider(\n",
    "    value=1.3,\n",
    "    min=0,\n",
    "    max=2.0,\n",
    "    step=0.1,\n",
    "    description='Parishes:',\n",
    "    readout_format='.1f',\n",
    ")\n",
    "display(wP) # This displays the slider for the Parishes value.\n",
    "\n",
    "#######################################"
   ]
  },
  {
   "cell_type": "markdown",
   "metadata": {},
   "source": [
    "### Step 6: View the new average death rate outcome."
   ]
  },
  {
   "cell_type": "code",
   "execution_count": 6,
   "metadata": {},
   "outputs": [
    {
     "name": "stdout",
     "output_type": "stream",
     "text": [
      "User-generated slider values:\n",
      "1.4 Rats\n",
      "0.6 Parishes\n",
      "New value generated: 12852.0\n",
      "Average weekly death rate at these parameters = 8618.4\n"
     ]
    },
    {
     "data": {
      "image/png": "[encoded data removed]",
      "text/plain": [
       "<Figure size 432x288 with 1 Axes>"
      ]
     },
     "metadata": {
      "needs_background": "light"
     },
     "output_type": "display_data"
    }
   ],
   "source": [
    "# Run\n",
    "'''Step 6: Get the slider results to display on the new map,\n",
    "enabling user to change the equation parameter weights'''\n",
    "\n",
    "print('User-generated slider values:')\n",
    "print (wR.value, 'Rats')\n",
    "print (wP.value, 'Parishes')\n",
    "# This prints the slider values in order to display the change made to the equation parameters.\n",
    "\n",
    "# This displays the map of average death rate with the new values as adjusted by the slider bars.\n",
    "result = []\n",
    "\n",
    "for r in range(len(environment1)):\n",
    "    row_a = environment1[r]\n",
    "    row_b = environment2[r]\n",
    "    rowlist = []\n",
    "    result.append(rowlist)\n",
    "    for c in range(len(row_a)):\n",
    "        r = row_a[c] # rats  \n",
    "        p = row_b[c] # parishes\n",
    "        # d = (0.8 x r) x (1.3 x p) Original equation used to calculate the average death rate.\n",
    "        d = (wR.value * r) * (wP.value * p) # Equation accounting for the change in parameter values.\n",
    "        # Changed 0.8 for wR and 1.3 for wP, to mimic the change in parameters.\n",
    "        rowlist.append(d)\n",
    "        #print(d) # Test the result.  \n",
    "\n",
    "# Show the new map of averarge death rate, with adjusted parameters.\n",
    "matplotlib.pyplot.xlim(0, 400)\n",
    "matplotlib.pyplot.ylim(0, 400)\n",
    "matplotlib.pyplot.imshow(result)\n",
    "matplotlib.pyplot.title('Map of death rate with changed parameters')\n",
    "\n",
    "\n",
    "print('New value generated:', result[250][0])\n",
    "# The above test checks the new value against the initial average death\n",
    "# rate value of 15912.0 to prove the sliders have altered the map outcome.\n",
    "\n",
    "# Shows the average weekly death rate for the altered parameters.\n",
    "print('Average weekly death rate at these parameters =', round(d,2))\n",
    "\n",
    "#######################################"
   ]
  },
  {
   "cell_type": "markdown",
   "metadata": {},
   "source": [
    "##### The above map now displays the new average death rate, calculated from the new parameters as decided by you! \n",
    "##### The initial equation: d = (0.8 x r) x (1.3 x p) has had the rats and parishes parameters altered in order to mimic a new scenario of average weekly deaths, as determined by your chosen slider values."
   ]
  },
  {
   "cell_type": "markdown",
   "metadata": {},
   "source": [
    "# __________\n",
    "## End of project.\n",
    "## *Thank you for visiting!*\n",
    "#### Please go to the README for more details about this project."
   ]
  }
 ],
 "metadata": {
  "kernelspec": {
   "display_name": "Python 3",
   "language": "python",
   "name": "python3"
  },
  "language_info": {
   "codemirror_mode": {
    "name": "ipython",
    "version": 3
   },
   "file_extension": ".py",
   "mimetype": "text/x-python",
   "name": "python",
   "nbconvert_exporter": "python",
   "pygments_lexer": "ipython3",
   "version": "3.7.0"
  }
 },
 "nbformat": 4,
 "nbformat_minor": 2
}
