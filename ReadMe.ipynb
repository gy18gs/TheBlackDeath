{
 "cells": [
  {
   "cell_type": "markdown",
   "metadata": {},
   "source": [
    "# The Black Death Project: ReadMe"
   ]
  },
  {
   "cell_type": "markdown",
   "metadata": {},
   "source": [
    "#### This project focuses on the Black Death, a plague that swept through London in 1665. The data simulates the weekly death rate for the parishes in London, based on the parish population and average rats caught per week.\n",
    "# •\n",
    "#### The submission for this project includes:\n",
    "#### • This ReadMe - *introduction to the project and the software intention*\n",
    "#### • TheBlackDeath.ipynb - *the project itself*\n",
    "#### • deathmap.txt - *the textfile in which the death map data is stored*\n",
    "#### • death_parishes.txt - *the parish death rate file*\n",
    "#### • death_rats.txt - *the rat-catch file*\n",
    "#### • BlackDeathUML.jpeg - *the UML diagram of the program*\n",
    "#### • license.txt - *the license for the code used in the project*\n",
    "# •"
   ]
  },
  {
   "cell_type": "markdown",
   "metadata": {},
   "source": [
    "## *SOFTWARE INTENTION*\n",
    "#### This Jupyter notebook is designed to simulate the average weekly deaths from the Black Plague in 16 London parishes, as calculated by a given equation:\n",
    "### d = (0.8 x r) x (1.3 x p)\n",
    "#### - This initial equation is what is used to combine the rats and parishes CSV files, in order to produce a raster grid to demonstrate the weekly deaths. The produced 'deathmap.txt' (as found on the notebook homepage) is the result of combining the two grids in the equation.\n",
    "#### - The interactive part of the notebook found from Step 5 onwards, enables the user to change the values for the r (rats) and p (parishes) part of the average weekly deaths equation, in order to create a new outcome of weekly deaths.\n",
    "#### - This interactive feature allows the user to mimic different scenarios of the Black Plague: *users can greatly increase the amount of rats caught, to favour the population, or greatly increase the population density to give a better chance of survival!*\n",
    "# •\n",
    "## Is this a perfect model? No...\n",
    "## *SOFTWARE DEVELOPMENT GOING FORWARD*\n",
    "#### Although the equation can simulate the average weekly deaths in the parishes, it is not a realistic model of population change... *to have a realistic model of population change, a separate model would be needed which allows the user to vary the average rat catch ONLY, and have a set population amount...*... this would look something like: deaths = (rats caught that week) x (previous week's population). *This would take into account the deaths of the previous week, and use that figure to calculate the average weekly death rate as the population decreases over time.*\n",
    "# •\n",
    "\n",
    "## *OTHER COMMENTS TO NOTE*\n",
    "#### As well as displaying the weekly death rate from the given equation, I wanted this program to be interactive, so that the user could influence the average death rate outcome by altering the parameters. Sliding scale bars seemed the most appropriate way to fulfil this, as they allow the user to physically alter the death rate on a scale and compare the outcome of their choices. This is reflected in the calculated Average Weekly Death Rate, as printed above the new Death Rate map, in Part 6.\n",
    "#### This notebook is tested throughout, with print statements to display old and altered death rate calculations, and values from the CSV file.\n",
    "#### The UML diagram, *BlackDeathUML.jpeg* provides brief detail on the structure of the Black Death project.\n",
    "# •\n",
    "## *ISSUES WITH SOFTWARE ON WINDOWS*\n",
    "#### This project was written in MacOSX, however I was under the impression that with Jupyter being a web-based environment, there would be no errors when writing a Jupyter notebook in Mac to run on windows. However, when it came to the final stage of this project, where I was testing on a Windows computer, the *ipywidget: FloatSlider* would not work, therefore not fulfiling the interactive nature of the notebook that this project required. Numerous attempts after looking at forums on StackOverflow did not highlight anything that could be done to fix this issue. *On further note, the project was written through a Google Chrome browser, and the ipywidgets (FloatSlider) do not run in Windows Internet Explorer, which may be the key issue. I have been unable to change the default browser on Jupyter to test this, however I am inclined to believe that the Internet broswer is the error causing the interactive widgets to be redundant.*\n",
    "#### Please see the "
   ]
  },
  {
   "cell_type": "markdown",
   "metadata": {},
   "source": [
    "## ____\n",
    "### Bibliography and sources\n",
    "\n",
    "##### Matplotlib code: https://www.geog.leeds.ac.uk/courses/computing/practicals/python/agent-framework/part2/4.html \n",
    "##### Raster maps of parish deaths and average rat catch: https://www.geog.leeds.ac.uk/courses/computing/study/core-python/assessment2/death.html \n",
    "##### Slider widget code and import information: - https://ipywidgets.readthedocs.io/en/stable/examples/Widget%20List.html - https://ipywidgets.readthedocs.io/en/stable/examples/Widget%20Basics.html - https://towardsdatascience.com/a-very-simple-demo-of-interactive-controls-on-jupyter-notebook-4429cf46aabd - https://ipython-books.github.io/33-mastering-widgets-in-the-jupyter-notebook/"
   ]
  },
  {
   "cell_type": "code",
   "execution_count": null,
   "metadata": {},
   "outputs": [],
   "source": []
  }
 ],
 "metadata": {
  "kernelspec": {
   "display_name": "Python 3",
   "language": "python",
   "name": "python3"
  },
  "language_info": {
   "codemirror_mode": {
    "name": "ipython",
    "version": 3
   },
   "file_extension": ".py",
   "mimetype": "text/x-python",
   "name": "python",
   "nbconvert_exporter": "python",
   "pygments_lexer": "ipython3",
   "version": "3.7.0"
  }
 },
 "nbformat": 4,
 "nbformat_minor": 2
}
