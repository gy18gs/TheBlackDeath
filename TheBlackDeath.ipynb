{
 "cells": [
  {
   "cell_type": "markdown",
   "metadata": {},
   "source": [
    "# GEOG5990 Independent Project\n",
    "\n",
    "## The Black Death\n",
    "\n",
    "#### *Georgia Scott*"
   ]
  },
  {
   "cell_type": "markdown",
   "metadata": {},
   "source": [
    "# ____\n",
    "### In this project, I am an epidemiologist looking back at the Black Death outbreak in 1665. My aim is to calculate the total dealths from the disease using historical figures of rate population (as recorded by local rat-catchers) and the population density (derived from the parish records)."
   ]
  },
  {
   "cell_type": "markdown",
   "metadata": {},
   "source": [
    "### (Project description, how to run etc.)"
   ]
  },
  {
   "cell_type": "markdown",
   "metadata": {},
   "source": [
    "### **Step 1: Imports**"
   ]
  },
  {
   "cell_type": "code",
   "execution_count": 71,
   "metadata": {},
   "outputs": [],
   "source": [
    "'''Step 1: Imports.'''\n",
    "\n",
    "%matplotlib inline\n",
    "import random\n",
    "import matplotlib\n",
    "import matplotlib.pyplot\n",
    "import matplotlib.animation\n",
    "import csv\n",
    "import numpy as np\n",
    "import matplotlib.pyplot as plt\n",
    "import os\n",
    "from ipywidgets import widgets # For the sliding scale bar\n",
    "\n"
   ]
  },
  {
   "cell_type": "markdown",
   "metadata": {},
   "source": [
    "### Step 2: Load the parish death rate map"
   ]
  },
  {
   "cell_type": "code",
   "execution_count": 67,
   "metadata": {},
   "outputs": [
    {
     "data": {
      "text/plain": [
       "Text(0.5,1,'Parish death rate map')"
      ]
     },
     "execution_count": 67,
     "metadata": {},
     "output_type": "execute_result"
    },
    {
     "data": {
      "image/png": "[encoded data removed]",
      "text/plain": [
       "<Figure size 432x288 with 1 Axes>"
      ]
     },
     "metadata": {
      "needs_background": "light"
     },
     "output_type": "display_data"
    }
   ],
   "source": [
    "'''Step 2: Load the parish death rate map.'''\n",
    "\n",
    "environment1 = []\n",
    "\n",
    "f = open(\"death_parishes.txt\", newline = '')\n",
    "reader = csv.reader(f,quoting=csv.QUOTE_NONNUMERIC)\n",
    "for row in reader:\n",
    "    rowlist = []\n",
    "    for value in row:\n",
    "        rowlist.append(value)\n",
    "    environment1.append(rowlist)\n",
    "f.close()\n",
    "\n",
    "matplotlib.pyplot.xlim(0, 400)\n",
    "matplotlib.pyplot.ylim(0, 400)\n",
    "matplotlib.pyplot.imshow(environment1)\n",
    "matplotlib.pyplot.title('Parish death rate map')\n",
    "\n",
    "#######################################"
   ]
  },
  {
   "cell_type": "markdown",
   "metadata": {},
   "source": [
    "##### This map displays the average population densities of the 16 parishes in London, 1665."
   ]
  },
  {
   "cell_type": "markdown",
   "metadata": {},
   "source": [
    "### Step 3: Load the average rat catch map."
   ]
  },
  {
   "cell_type": "code",
   "execution_count": 68,
   "metadata": {},
   "outputs": [
    {
     "data": {
      "text/plain": [
       "Text(0.5,1,'Average rat catch map')"
      ]
     },
     "execution_count": 68,
     "metadata": {},
     "output_type": "execute_result"
    },
    {
     "data": {
      "image/png": "[encoded data removed]",
      "text/plain": [
       "<Figure size 432x288 with 1 Axes>"
      ]
     },
     "metadata": {
      "needs_background": "light"
     },
     "output_type": "display_data"
    }
   ],
   "source": [
    "'''Step 3: Load the average rat catch map.'''\n",
    "\n",
    "environment2 = []\n",
    "\n",
    "f = open(\"death_rats.txt\", newline = '')\n",
    "reader = csv.reader(f,quoting=csv.QUOTE_NONNUMERIC)\n",
    "for row in reader:\n",
    "    rowlist = []\n",
    "    for value in row:\n",
    "        rowlist.append(value)\n",
    "    environment2.append(rowlist)\n",
    "f.close()\n",
    "\n",
    "matplotlib.pyplot.xlim(0, 400)\n",
    "matplotlib.pyplot.ylim(0, 400)\n",
    "matplotlib.pyplot.imshow(environment2)\n",
    "matplotlib.pyplot.title('Average rat catch map')\n",
    "\n",
    "#######################################"
   ]
  },
  {
   "cell_type": "markdown",
   "metadata": {},
   "source": [
    "##### This map displays the average number of rats caught per week per 100m x 100m square for each rat catcher's area of work."
   ]
  },
  {
   "cell_type": "markdown",
   "metadata": {},
   "source": [
    "### Step 4: Combine the parish death rate map and average rat catch map"
   ]
  },
  {
   "cell_type": "code",
   "execution_count": 70,
   "metadata": {},
   "outputs": [
    {
     "data": {
      "image/png": "[encoded data removed]",
      "text/plain": [
       "<Figure size 432x288 with 1 Axes>"
      ]
     },
     "metadata": {
      "needs_background": "light"
     },
     "output_type": "display_data"
    }
   ],
   "source": [
    "'''Step 4: Combine the parish death rate map and average rat catch map.'''\n",
    "\n",
    "# Parish death rate map = environment1\n",
    "# Average rat catch map = environment2\n",
    "\n",
    "\n",
    "# Combine the 2 datasets to create a map of average death rate.\n",
    "result = []\n",
    "\n",
    "for r in range(len(environment1)):\n",
    "    row_a = environment1[r]\n",
    "    row_b = environment2[r]\n",
    "    rowlist = []\n",
    "    result.append(rowlist)\n",
    "    for c in range(len(row_a)):\n",
    "        r = row_a[c] # rats  \n",
    "        p = row_b[c] # parishes\n",
    "        # d = (0.8 x r) x (1.3 x p) Equation used to calculate the average death rate \n",
    "        d = (0.8 * r) * (1.3 * p)\n",
    "        rowlist.append(d)\n",
    "        #print(d) # Test the result.  \n",
    "\n",
    "# Show the new map of averarge death rate, calculated from the 2 combined datasets.\n",
    "matplotlib.pyplot.xlim(0, 400)\n",
    "matplotlib.pyplot.ylim(0, 400)\n",
    "matplotlib.pyplot.imshow(result)\n",
    "matplotlib.pyplot.title('Map of average death rate')\n",
    "\n",
    "\n",
    "'''Step 4a: Save the average death rate result as a separate txtfile.'''\n",
    "\n",
    "np.savetxt('deathmap.txt', result, fmt='%-6f' , newline=\"\\r\\n\")\n",
    "# Makes each line in the txtfile equal a new line on the map.\n",
    "      \n",
    "#######################################"
   ]
  },
  {
   "cell_type": "markdown",
   "metadata": {},
   "source": [
    "##### This map displays the average death rate within the parishes investigated, within a 400x400 environment. This was calculated by combining the average parish population density, and the average weekly rat catch for each rat catcher's area of work. These data were combined with the equation deaths = (0.8 x rats) x (1.3 x parishes). The result of the average death rate calculation can be found as a textfile, titled 'deathmap.txt' which can be accessed from the Jupyter notebook home page."
   ]
  },
  {
   "cell_type": "markdown",
   "metadata": {},
   "source": [
    "### Step 5: Display the death rate map with changing parameters."
   ]
  },
  {
   "cell_type": "code",
   "execution_count": 95,
   "metadata": {},
   "outputs": [
    {
     "data": {
      "application/vnd.jupyter.widget-view+json": {
       "model_id": "9bf1c6faf220429f9433aa0800a48fa3",
       "version_major": 2,
       "version_minor": 0
      },
      "text/plain": [
       "FloatSlider(value=0.8, continuous_update=False, description='Rats:', max=2.0, readout_format='.1f', step=0.01)"
      ]
     },
     "metadata": {},
     "output_type": "display_data"
    }
   ],
   "source": [
    "'''Step 5: Display the death rate map with interactive parameters.'''\n",
    "\n",
    "'''Step 5a: Imports for the slider widget.'''\n",
    "import ipywidgets as widgets\n",
    "from matplotlib.widgets import Slider\n",
    "from pylab import *\n",
    "\n",
    "'''The initial equation for calculating death rate:\n",
    "deaths = (0.8 x rats) x (1.3 x parishes)'''\n",
    "\n",
    "'''Step 5b: Create the slider for the average rat population.'''\n",
    "widgets.FloatSlider(\n",
    "    value=0.8,\n",
    "    min=0,\n",
    "    max=2.0,\n",
    "    step=0.01,\n",
    "    description='Rats:',\n",
    "    disabled=False,\n",
    "    continuous_update=False,\n",
    "    orientation='horizontal',\n",
    "    readout=True,\n",
    "    readout_format='.1f',\n",
    ")\n",
    "\n"
   ]
  },
  {
   "cell_type": "code",
   "execution_count": 94,
   "metadata": {},
   "outputs": [
    {
     "data": {
      "application/vnd.jupyter.widget-view+json": {
       "model_id": "a41461c3be844e3a981fb2a3ffcb85d5",
       "version_major": 2,
       "version_minor": 0
      },
      "text/plain": [
       "FloatSlider(value=1.3, continuous_update=False, description='Parishes:', max=2.0, readout_format='.1f', step=0…"
      ]
     },
     "metadata": {},
     "output_type": "display_data"
    }
   ],
   "source": [
    "'''Step 5c: Create the slider for the parish population.'''\n",
    "widgets.FloatSlider(\n",
    "    value=1.3,\n",
    "    min=0,\n",
    "    max=2.0,\n",
    "    step=0.01,\n",
    "    description='Parishes:',\n",
    "    disabled=False,\n",
    "    continuous_update=False,\n",
    "    orientation='horizontal',\n",
    "    readout=True,\n",
    "    readout_format='.1f',\n",
    ")\n"
   ]
  },
  {
   "cell_type": "code",
   "execution_count": null,
   "metadata": {},
   "outputs": [],
   "source": []
  },
  {
   "cell_type": "code",
   "execution_count": null,
   "metadata": {},
   "outputs": [],
   "source": [
    "#######################################"
   ]
  },
  {
   "cell_type": "markdown",
   "metadata": {},
   "source": [
    "# __________\n",
    "## End of project.\n",
    "## *Thank you for visiting!*"
   ]
  },
  {
   "cell_type": "markdown",
   "metadata": {},
   "source": [
    "# ____\n",
    "### Bibliography and sources\n",
    "\n",
    "##### Matplotlib code: https://www.geog.leeds.ac.uk/courses/computing/practicals/python/agent-framework/part2/4.html \n",
    "##### Raster maps of parish deaths and average rat catch: https://www.geog.leeds.ac.uk/courses/computing/study/core-python/assessment2/death.html \n",
    "##### Slider widget code and import information: https://ipywidgets.readthedocs.io/en/stable/examples/Widget%20List.html "
   ]
  },
  {
   "cell_type": "code",
   "execution_count": null,
   "metadata": {},
   "outputs": [],
   "source": []
  }
 ],
 "metadata": {
  "kernelspec": {
   "display_name": "Python 3",
   "language": "python",
   "name": "python3"
  },
  "language_info": {
   "codemirror_mode": {
    "name": "ipython",
    "version": 3
   },
   "file_extension": ".py",
   "mimetype": "text/x-python",
   "name": "python",
   "nbconvert_exporter": "python",
   "pygments_lexer": "ipython3",
   "version": "3.7.0"
  }
 },
 "nbformat": 4,
 "nbformat_minor": 2
}
