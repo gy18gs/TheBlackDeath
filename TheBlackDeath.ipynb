{
 "cells": [
  {
   "cell_type": "markdown",
   "metadata": {},
   "source": [
    "# GEOG5990 Independent Project\n",
    "\n",
    "## The Black Death\n",
    "\n",
    "#### *Georgia Scott*"
   ]
  },
  {
   "cell_type": "markdown",
   "metadata": {},
   "source": [
    "# ____\n",
    "### In this project, I am an epidemiologist looking back at the Black Death outbreak in 1665. My aim is to calculate the total dealths from the disease using historical figures of rate population (as recorded by local rat-catchers) and the population density (derived from the parish records)."
   ]
  },
  {
   "cell_type": "markdown",
   "metadata": {},
   "source": [
    "### (Project description, how to run etc.)"
   ]
  },
  {
   "cell_type": "markdown",
   "metadata": {},
   "source": [
    "#### **Step 1: Imports**"
   ]
  },
  {
   "cell_type": "code",
   "execution_count": 16,
   "metadata": {},
   "outputs": [],
   "source": [
    "# Imports.\n",
    "\n",
    "%matplotlib inline\n",
    "import random\n",
    "import matplotlib\n",
    "import matplotlib.pyplot\n",
    "import matplotlib.animation\n",
    "import csv\n",
    "import numpy as np\n",
    "import matplotlib.pyplot as plt\n",
    "import pandas as pd\n",
    "import os\n",
    "\n"
   ]
  },
  {
   "cell_type": "markdown",
   "metadata": {},
   "source": [
    "#### Step 2: Load the parish death rate map"
   ]
  },
  {
   "cell_type": "code",
   "execution_count": 18,
   "metadata": {},
   "outputs": [
    {
     "data": {
      "text/plain": [
       "<matplotlib.image.AxesImage at 0x11b1faac8>"
      ]
     },
     "execution_count": 18,
     "metadata": {},
     "output_type": "execute_result"
    },
    {
     "data": {
      "image/png": "[encoded data removed]",
      "text/plain": [
       "<Figure size 432x288 with 1 Axes>"
      ]
     },
     "metadata": {
      "needs_background": "light"
     },
     "output_type": "display_data"
    }
   ],
   "source": [
    "# Load the parish death rate map.\n",
    "\n",
    "environment1 = []\n",
    "\n",
    "f = open(\"death_parishes.txt\", newline = '')\n",
    "reader = csv.reader(f,quoting=csv.QUOTE_NONNUMERIC)\n",
    "for row in reader:\n",
    "    rowlist = []\n",
    "    for value in row:\n",
    "        rowlist.append(value)\n",
    "    environment1.append(rowlist)\n",
    "f.close()\n",
    "\n",
    "matplotlib.pyplot.xlim(0, 400)\n",
    "matplotlib.pyplot.ylim(0, 400)\n",
    "matplotlib.pyplot.imshow(environment1)\n",
    "#ax.set_title('Parish death rate map')\n",
    "\n",
    "#######################################"
   ]
  },
  {
   "cell_type": "markdown",
   "metadata": {},
   "source": [
    "#### Step 3: Load the average rat catch map."
   ]
  },
  {
   "cell_type": "code",
   "execution_count": 19,
   "metadata": {},
   "outputs": [
    {
     "data": {
      "text/plain": [
       "<matplotlib.image.AxesImage at 0x11b4053c8>"
      ]
     },
     "execution_count": 19,
     "metadata": {},
     "output_type": "execute_result"
    },
    {
     "data": {
      "image/png": "[encoded data removed]",
      "text/plain": [
       "<Figure size 432x288 with 1 Axes>"
      ]
     },
     "metadata": {
      "needs_background": "light"
     },
     "output_type": "display_data"
    }
   ],
   "source": [
    "# Load the average rat catch map.\n",
    "\n",
    "environment2 = []\n",
    "\n",
    "f = open(\"death_rats.txt\", newline = '')\n",
    "reader = csv.reader(f,quoting=csv.QUOTE_NONNUMERIC)\n",
    "for row in reader:\n",
    "    rowlist = []\n",
    "    for value in row:\n",
    "        rowlist.append(value)\n",
    "    environment2.append(rowlist)\n",
    "f.close()\n",
    "\n",
    "matplotlib.pyplot.xlim(0, 400)\n",
    "matplotlib.pyplot.ylim(0, 400)\n",
    "matplotlib.pyplot.imshow(environment2)\n",
    "#ax.set_title('Average rat catch map')\n",
    "\n",
    "#######################################"
   ]
  },
  {
   "cell_type": "markdown",
   "metadata": {},
   "source": [
    "#### Step 4: Combine the parish death rate map and average rat catch map"
   ]
  },
  {
   "cell_type": "code",
   "execution_count": 30,
   "metadata": {},
   "outputs": [
    {
     "name": "stdout",
     "output_type": "stream",
     "text": [
      "0.0\n",
      "108.0\n",
      "0.0\n",
      "0.0\n",
      "108.0\n",
      "0.0\n"
     ]
    },
    {
     "data": {
      "text/plain": [
       "'\\nenvironment3 = []\\n\\nfor r in range(len(environment1)):\\n    row_e1 = environment1[r]\\n    row_e2 = environment2[r]\\n    rowlist = []\\n    environment3.append(rowlist)\\n\\nfor c in range(len(row_e1)):\\n    r = row_e1[c]\\n    p = row_e2[c]\\n    # d = (0.8 x r) x (1.3 x p)\\n    d = (0.8 * r)*(1.3 * p)\\n    rowlist.append(d)\\n    #print(d)\\n    \\nmatplotlib.pyplot.xlim(0, 400)\\nmatplotlib.pyplot.ylim(0, 400)\\nmatplotlib.pyplot.imshow(environment3)\\n'"
      ]
     },
     "execution_count": 30,
     "metadata": {},
     "output_type": "execute_result"
    },
    {
     "data": {
      "image/png": "[encoded data removed]",
      "text/plain": [
       "<Figure size 432x288 with 1 Axes>"
      ]
     },
     "metadata": {
      "needs_background": "light"
     },
     "output_type": "display_data"
    }
   ],
   "source": [
    "# Combine the parish death rate map and average rat catch map.\n",
    "\n",
    "# Parish death rate map = environment1\n",
    "# Average rat catch map = environment2\n",
    "\n",
    "\n",
    "#\n",
    "# parish deaths\n",
    "environment1 = []\n",
    "\n",
    "f = open(\"death_parishes.txt\", newline = '')\n",
    "reader = csv.reader(f,quoting=csv.QUOTE_NONNUMERIC)\n",
    "for row in reader:\n",
    "    rowlist = []\n",
    "    for value in row:\n",
    "        rowlist.append(value)\n",
    "    environment1.append(rowlist)\n",
    "f.close()\n",
    "\n",
    "# average rat catch\n",
    "environment2 = []\n",
    "\n",
    "f = open(\"death_rats.txt\", newline = '')\n",
    "reader = csv.reader(f,quoting=csv.QUOTE_NONNUMERIC)\n",
    "for row in reader:\n",
    "    rowlist = []\n",
    "    for value in row:\n",
    "        rowlist.append(value)\n",
    "    environment2.append(rowlist)\n",
    "f.close()\n",
    "\n",
    "# Combining\n",
    "result = []\n",
    "\n",
    "for r in range(len(environment1)):\n",
    "    row_e1 = environment1[r] #parish\n",
    "    row_e2 = environment2[r] #rats\n",
    "    rowlist = []\n",
    "    result.append(rowlist)\n",
    "\n",
    "    for c in range(len(row_e1)):\n",
    "        rats = row_e1[c]\n",
    "        d = row_e2[c]\n",
    "        # d = (0.8 x r) x (1.3 x p)\n",
    "        d = (0.8 * r) * (1.3 * p)\n",
    "        rowlist.append(d)\n",
    "\n",
    "        #print(d)\n",
    "\n",
    "print(environment1[0][0])\n",
    "print(environment2[0][0])\n",
    "print(result[0][0])\n",
    "\n",
    "print(environment1[0][1])\n",
    "print(environment2[0][1])\n",
    "print(result[0][1])\n",
    "\n",
    "matplotlib.pyplot.xlim(0, 400)\n",
    "matplotlib.pyplot.ylim(0, 400)\n",
    "matplotlib.pyplot.imshow(result)\n",
    "\n",
    "\n",
    "#for i in range(num_of_agents):\n",
    "#    agents[i].move()\n",
    "#    agents[i].eat()\n",
    "        \n",
    "#code\n",
    "\n",
    "\"\"\"\n",
    "environment3 = []\n",
    "\n",
    "for r in range(len(environment1)):\n",
    "    row_e1 = environment1[r]\n",
    "    row_e2 = environment2[r]\n",
    "    rowlist = []\n",
    "    environment3.append(rowlist)\n",
    "\n",
    "for c in range(len(row_e1)):\n",
    "    r = row_e1[c]\n",
    "    p = row_e2[c]\n",
    "    # d = (0.8 x r) x (1.3 x p)\n",
    "    d = (0.8 * r)*(1.3 * p)\n",
    "    rowlist.append(d)\n",
    "    #print(d)\n",
    "    \n",
    "matplotlib.pyplot.xlim(0, 400)\n",
    "matplotlib.pyplot.ylim(0, 400)\n",
    "matplotlib.pyplot.imshow(environment3)\n",
    "\"\"\"        \n",
    "#######################################"
   ]
  },
  {
   "cell_type": "code",
   "execution_count": 93,
   "metadata": {},
   "outputs": [],
   "source": [
    "#def join(environment1, environment2):\n",
    "#    data = [np.load(environment1), (environment2)]\n",
    "    \n",
    "#x = np.linspace(0,300)\n",
    "#y = np.linspace(0,300)\n",
    "#X,Y = np.meshgrid(x,y)\n",
    "\n",
    "#plt.show()\n",
    "\n",
    "\n",
    "    "
   ]
  },
  {
   "cell_type": "code",
   "execution_count": null,
   "metadata": {},
   "outputs": [],
   "source": [
    "# d = (0.8 x r) x (1.3 x p)"
   ]
  },
  {
   "cell_type": "code",
   "execution_count": null,
   "metadata": {},
   "outputs": [],
   "source": []
  },
  {
   "cell_type": "code",
   "execution_count": null,
   "metadata": {},
   "outputs": [],
   "source": []
  },
  {
   "cell_type": "code",
   "execution_count": null,
   "metadata": {},
   "outputs": [],
   "source": []
  },
  {
   "cell_type": "code",
   "execution_count": null,
   "metadata": {},
   "outputs": [],
   "source": []
  },
  {
   "cell_type": "code",
   "execution_count": null,
   "metadata": {},
   "outputs": [],
   "source": []
  },
  {
   "cell_type": "markdown",
   "metadata": {},
   "source": [
    "# __________\n",
    "## End of project.\n",
    "## *Thank you for visiting!*"
   ]
  },
  {
   "cell_type": "markdown",
   "metadata": {},
   "source": [
    "# ____\n",
    "### Bibliography and sources\n",
    "\n",
    "##### Matplotlib code taken from assessment website."
   ]
  },
  {
   "cell_type": "code",
   "execution_count": null,
   "metadata": {},
   "outputs": [],
   "source": []
  }
 ],
 "metadata": {
  "kernelspec": {
   "display_name": "Python 3",
   "language": "python",
   "name": "python3"
  },
  "language_info": {
   "codemirror_mode": {
    "name": "ipython",
    "version": 3
   },
   "file_extension": ".py",
   "mimetype": "text/x-python",
   "name": "python",
   "nbconvert_exporter": "python",
   "pygments_lexer": "ipython3",
   "version": "3.7.0"
  }
 },
 "nbformat": 4,
 "nbformat_minor": 2
}
